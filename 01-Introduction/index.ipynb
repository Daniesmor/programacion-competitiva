{
 "cells": [
  {
   "cell_type": "code",
   "execution_count": 1,
   "id": "2a139d60",
   "metadata": {},
   "outputs": [],
   "source": [
    "import math"
   ]
  },
  {
   "cell_type": "code",
   "execution_count": 13,
   "id": "01733068",
   "metadata": {},
   "outputs": [
    {
     "name": "stdout",
     "output_type": "stream",
     "text": [
      "prueba de esto\n",
      "prueba de esto\n"
     ]
    }
   ],
   "source": [
    "a, b, c = input().split(' ')\n",
    "print(a, b, c)"
   ]
  },
  {
   "cell_type": "code",
   "execution_count": 16,
   "id": "ee95a580",
   "metadata": {},
   "outputs": [
    {
     "name": "stdout",
     "output_type": "stream",
     "text": [
      "10 8\n",
      "10 8\n"
     ]
    }
   ],
   "source": [
    "a, b = map(int, input().split(' '))\n",
    "print(a, b)"
   ]
  },
  {
   "cell_type": "code",
   "execution_count": 30,
   "id": "887172ae",
   "metadata": {},
   "outputs": [
    {
     "name": "stdout",
     "output_type": "stream",
     "text": [
      "10, 20\n",
      "10 20\n",
      "10\n",
      "20\n",
      "<class 'int'>\n",
      "<class 'int'>\n"
     ]
    }
   ],
   "source": [
    "# Input with map -> 10, 20\n",
    "a, b = map(int, input().split(','))\n",
    "print(a, b)\n",
    "print(a)\n",
    "print(b)\n",
    "print(type(a))\n",
    "print(type(b))\n"
   ]
  },
  {
   "cell_type": "code",
   "execution_count": 29,
   "id": "f3892925",
   "metadata": {},
   "outputs": [
    {
     "name": "stdout",
     "output_type": "stream",
     "text": [
      "1, 2\n",
      "<class 'str'>\n",
      "1,\n",
      "2\n",
      "1, 2\n"
     ]
    }
   ],
   "source": [
    "a, b = input().split()\n",
    "print(type(a))\n",
    "print(a)\n",
    "print(b)\n",
    "print(a,b)"
   ]
  },
  {
   "cell_type": "code",
   "execution_count": 33,
   "id": "14a602c6",
   "metadata": {},
   "outputs": [
    {
     "name": "stdout",
     "output_type": "stream",
     "text": [
      "10, 20\n",
      "10  20\n",
      "10\n",
      " 20\n",
      "<class 'str'>\n",
      "<class 'str'>\n",
      "20\n"
     ]
    }
   ],
   "source": [
    "# Input with map -> 10, 20\n",
    "a, b = input().split(',')\n",
    "print(a, b)\n",
    "print(a)\n",
    "print(b)\n",
    "print(type(a))\n",
    "print(type(b))\n",
    "b_int = int(b)\n",
    "print(b_int)"
   ]
  },
  {
   "cell_type": "code",
   "execution_count": 34,
   "id": "c5c3cc60",
   "metadata": {},
   "outputs": [
    {
     "name": "stdout",
     "output_type": "stream",
     "text": [
      "36.0\n"
     ]
    }
   ],
   "source": [
    "# AP -> a + .. + b = n(a+b)/2\n",
    "ap = [3, 7, 11, 15]\n",
    "print(4*(3+15)/2)"
   ]
  },
  {
   "cell_type": "code",
   "execution_count": 35,
   "id": "33781bf4",
   "metadata": {},
   "outputs": [
    {
     "name": "stdout",
     "output_type": "stream",
     "text": [
      "45.0\n"
     ]
    }
   ],
   "source": [
    "# GP -> a + ak + ak^2 + .. + b = (bk -a) / (k - 1)\n",
    "gp = [3, 6, 12, 24] # k is 2 here\n",
    "print((24*2 - 3)/(2-1))"
   ]
  },
  {
   "cell_type": "code",
   "execution_count": 38,
   "id": "cee66f11",
   "metadata": {},
   "outputs": [
    {
     "name": "stdout",
     "output_type": "stream",
     "text": [
      "{2, 4, 7}\n",
      "{2}\n",
      "{1, 2, 4, 5}\n",
      "{1, 5}\n"
     ]
    }
   ],
   "source": [
    "# Set\n",
    "x = set([2, 4, 7])\n",
    "a = set([1, 2, 5])\n",
    "b = set([2, 4])\n",
    "print(x)\n",
    "print(a.intersection(b))\n",
    "print(a.union(b))\n",
    "print(a.difference(b))"
   ]
  },
  {
   "cell_type": "code",
   "execution_count": 39,
   "id": "f4bfd319",
   "metadata": {},
   "outputs": [
    {
     "name": "stdout",
     "output_type": "stream",
     "text": [
      "1.5\n",
      "1\n",
      "3\n",
      "3628800\n"
     ]
    }
   ],
   "source": [
    "# Functions\n",
    "print(3/2)\n",
    "print(min([1, 2, 3]))\n",
    "print(max([1, 2, 3]))\n",
    "print(math.factorial(10))\n"
   ]
  },
  {
   "cell_type": "code",
   "execution_count": 40,
   "id": "b16474d2",
   "metadata": {},
   "outputs": [
    {
     "name": "stdout",
     "output_type": "stream",
     "text": [
      "55\n"
     ]
    }
   ],
   "source": [
    "# Not memoized\n",
    "def fibo(n):\n",
    "    if n == 0:\n",
    "        return 0\n",
    "    if n == 1:\n",
    "        return 1\n",
    "    return fibo(n-1) + fibo(n-2)\n",
    "\n",
    "print(fibo(10))"
   ]
  },
  {
   "cell_type": "code",
   "execution_count": null,
   "id": "fbaa39f5",
   "metadata": {},
   "outputs": [],
   "source": []
  }
 ],
 "metadata": {
  "kernelspec": {
   "display_name": "Python 3 (ipykernel)",
   "language": "python",
   "name": "python3"
  },
  "language_info": {
   "codemirror_mode": {
    "name": "ipython",
    "version": 3
   },
   "file_extension": ".py",
   "mimetype": "text/x-python",
   "name": "python",
   "nbconvert_exporter": "python",
   "pygments_lexer": "ipython3",
   "version": "3.10.7"
  }
 },
 "nbformat": 4,
 "nbformat_minor": 5
}
